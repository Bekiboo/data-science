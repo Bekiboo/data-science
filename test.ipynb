{
  "cells": [
    {
      "cell_type": "raw",
      "metadata": {},
      "source": [
        "---\n",
        "title: Quarto Basics\n",
        "format:\n",
        "  html:\n",
        "    code-fold: true\n",
        "---"
      ],
      "id": "ad71375c"
    },
    {
      "cell_type": "code",
      "metadata": {},
      "source": [
        "# %%\n",
        "import pandas as pd\n",
        "import altair as alt\n",
        "\n",
        "alt.data_transformers.enable(\"json\")\n",
        "\n",
        "# %%\n",
        "url = (\n",
        "    \"https://github.com/byuidatascience/data4python4ds/raw/master/data-raw/mpg/mpg.csv\"\n",
        ")\n",
        "mpg = pd.read_csv(url)\n",
        "\n",
        "# %%\n",
        "chart = alt.Chart(mpg).encode(x=\"displ\", y=\"hwy\").mark_circle()\n",
        "\n",
        "chart.show()\n",
        "\n",
        "# %%\n",
        "print(mpg\n",
        "  .head(5)\n",
        "  .filter([\"manufacturer\", \"model\",\"year\", \"hwy\"])\n",
        "  .to_markdown(index=False))\n",
        "# %%"
      ],
      "id": "df0e99cf",
      "execution_count": null,
      "outputs": []
    }
  ],
  "metadata": {
    "kernelspec": {
      "name": "python3",
      "language": "python",
      "display_name": "Python 3 (ipykernel)"
    }
  },
  "nbformat": 4,
  "nbformat_minor": 5
}